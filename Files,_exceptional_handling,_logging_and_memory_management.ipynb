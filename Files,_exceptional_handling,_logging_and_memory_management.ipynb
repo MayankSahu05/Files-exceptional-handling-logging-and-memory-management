{
  "nbformat": 4,
  "nbformat_minor": 0,
  "metadata": {
    "colab": {
      "provenance": []
    },
    "kernelspec": {
      "name": "python3",
      "display_name": "Python 3"
    },
    "language_info": {
      "name": "python"
    }
  },
  "cells": [
    {
      "cell_type": "markdown",
      "source": [
        "#  Files, exceptional handling,logging and memory management\n",
        "\n",
        "\n",
        "\n",
        "\n",
        "1. What is the difference between interpreted and compiled languages\n",
        "-  A: Interpreted languages execute code line by line at runtime (e.g., Python), while compiled languages translate the entire source code into machine code before execution (e.g., C++), resulting in faster execution.\n",
        "\n",
        "2. What is exception handling in Python\n",
        "-  A: Exception handling is a mechanism to manage runtime errors using try, except, else, and finally blocks to prevent program crashes.\n",
        "\n",
        "3. What is the purpose of the finally block in exception handling\n",
        "-   A: The finally block executes cleanup code regardless of whether an exception occurs.\n",
        "\n",
        "4. What is logging in Python\n",
        "-  A: Logging records messages (errors, warnings, information) during program execution for debugging and tracking.\n",
        "\n",
        "5. What is the significance of the __del__ method in Python\n",
        "-  A: __del__ is a destructor method automatically called when an object is about to be destroyed to perform cleanup tasks.\n",
        "\n",
        "6. What is the difference between import and from ... import in Python\n",
        "-   A: import module imports the entire module; from module import name imports specific attributes/functions/classes.\n",
        "\n",
        "7. How can you handle multiple exceptions in Python\n",
        "-  A: Use multiple except blocks or a single except with a tuple of exceptions.\n",
        "\n",
        "8. What is the purpose of the with statement when handling files in Python\n",
        "-  A: It ensures the file is automatically closed after its block is executed, even if errors occur.\n",
        "\n",
        "9. What is the difference between multithreading and multiprocessing\n",
        "-  A: Multithreading runs multiple threads within one process; multiprocessing runs multiple processes with separate memory spaces.\n",
        "\n",
        "10. What are the advantages of using logging in a program\n",
        "-  A: Provides a record of events, aids debugging, allows severity levels, and avoids using print statements.\n",
        "\n",
        "11. What is memory management in Python\n",
        "-  A: The process of allocating and deallocating memory, managed automatically by Python’s garbage collector.\n",
        "\n",
        "12. What are the basic steps involved in exception handling in Python\n",
        "-   A: Wrap code in try, catch errors in except, optionally use else for code if no error occurs, and finally for cleanup.\n",
        "\n",
        "13. Why is memory management important in Python\n",
        "-   A: Prevents memory leaks, ensures efficient use of resources, and improves performance.\n",
        "\n",
        "14. What is the role of try and except in exception handling\n",
        "-  A: try contains code that might raise an exception; except handles the exception if raised.\n",
        "\n",
        "15. How does Python's garbage collection system work\n",
        "-  A: It uses reference counting and a cyclic garbage collector to free memory no longer in use.\n",
        "\n",
        "16. What is the purpose of the else block in exception handling\n",
        "-  A: The else block runs only if no exceptions occur in the try block.\n",
        "\n",
        "17. What are the common logging levels in Python\n",
        "-  A: DEBUG, INFO, WARNING, ERROR, CRITICAL.\n",
        "\n",
        "18. What is the difference between os.fork() and multiprocessing in Python\n",
        "-  A: os.fork() creates a child process in Unix; multiprocessing is a cross-platform module for process creation.\n",
        "\n",
        "19. What is the importance of closing a file in Python\n",
        "-  A: Frees system resources and ensures all buffered data is written.\n",
        "\n",
        "20. What is the difference between file.read() and file.readline() in Python\n",
        "-  A: read() reads the entire file; readline() reads one line at a time.\n",
        "\n",
        "21. What is the logging module in Python used for\n",
        "-  A: To record log messages of different severity levels.\n",
        "\n",
        "22. What is the os module in Python used for in file handling\n",
        "-  A: To interact with the operating system for tasks like file paths, creation, deletion, and checking existence.\n",
        "\n",
        "23. What are the challenges associated with memory management in Python\n",
        "-  A: Circular references, large object storage, fragmentation, and unpredictable garbage collection timing.\n",
        "\n",
        "24. How do you raise an exception manually in Python\n",
        "-  A: Use the raise statement, e.g., raise ValueError(\"message\").\n",
        "\n",
        "25. Why is it important to use multithreading in certain applications\n",
        "-  A: To improve performance in I/O-bound tasks by allowing concurrent execution."
      ],
      "metadata": {
        "id": "ZUTnTwnruHcJ"
      }
    },
    {
      "cell_type": "markdown",
      "source": [
        "1. How can you open a file for writing in Python and write a string to it"
      ],
      "metadata": {
        "id": "Dj-3cw9bz87Y"
      }
    },
    {
      "cell_type": "code",
      "source": [
        "# Open a file in write mode ('w')\n",
        "# If the file does not exist, it will be created\n",
        "# If it already exists, its content will be overwritten\n",
        "\n",
        "file_path = \"example.txt\"\n",
        "\n",
        "# Using context manager to ensure the file is automatically closed\n",
        "with open(file_path, \"w\") as file:\n",
        "    # Writing a string to the file\n",
        "    file.write(\"Hello, World!\\nThis is the first line in the file.\")\n",
        "\n",
        "print(f\"Data successfully written to {file_path}\")\n",
        "\n",
        "\n"
      ],
      "metadata": {
        "id": "U-3JoaWs6L6B"
      },
      "execution_count": null,
      "outputs": []
    },
    {
      "cell_type": "markdown",
      "source": [
        "2. Write a Python program to read the contents of a file and print each line\n"
      ],
      "metadata": {
        "id": "wt3tEh996X1D"
      }
    },
    {
      "cell_type": "code",
      "source": [
        "# Reading a file line by line and printing each line without extra newline characters\n",
        "\n",
        "file_path = \"example.txt\"\n",
        "\n",
        "with open(file_path, \"r\") as file:\n",
        "    for line in file:\n",
        "        print(line.strip())  # strip() removes leading/trailing spaces and newline characters\n",
        "\n"
      ],
      "metadata": {
        "id": "xWCWr9Rl6dae"
      },
      "execution_count": null,
      "outputs": []
    },
    {
      "cell_type": "markdown",
      "source": [
        "3. How would you handle a case where the file doesn't exist while trying to open it for reading."
      ],
      "metadata": {
        "id": "nfbjv8HP6heD"
      }
    },
    {
      "cell_type": "code",
      "source": [
        "\n",
        "# Using try-except to handle file not found error\n",
        "\n",
        "file_path = \"non_existing_file.txt\"\n",
        "\n",
        "try:\n",
        "    with open(file_path, \"r\") as file:\n",
        "        content = file.read()\n",
        "        print(content)\n",
        "except FileNotFoundError:\n",
        "    print(f\"Error: The file '{file_path}' does not exist.\")\n"
      ],
      "metadata": {
        "id": "8lRp0O3d6rZx"
      },
      "execution_count": null,
      "outputs": []
    },
    {
      "cell_type": "markdown",
      "source": [
        "4. Write a Python script that reads from one file and writes its content to another file."
      ],
      "metadata": {
        "id": "130PV6K7-OvN"
      }
    },
    {
      "cell_type": "code",
      "source": [
        "# Copying file content from one file to another\n",
        "\n",
        "source_file = \"source.txt\"\n",
        "destination_file = \"destination.txt\"\n",
        "\n",
        "try:\n",
        "    with open(source_file, \"r\") as src, open(destination_file, \"w\") as dest:\n",
        "        data = src.read()\n",
        "        dest.write(data)\n",
        "    print(f\"Content copied from {source_file} to {destination_file}\")\n",
        "except FileNotFoundError:\n",
        "    print(f\"Error: '{source_file}' not found.\")\n"
      ],
      "metadata": {
        "colab": {
          "base_uri": "https://localhost:8080/"
        },
        "id": "rNGp381y-VwO",
        "outputId": "9626e859-1347-4a9f-905b-450285776a22"
      },
      "execution_count": 10,
      "outputs": [
        {
          "output_type": "stream",
          "name": "stdout",
          "text": [
            "Error: 'source.txt' not found.\n"
          ]
        }
      ]
    },
    {
      "cell_type": "markdown",
      "source": [
        "5. How would you catch and handle division by zero error in Python."
      ],
      "metadata": {
        "id": "oz9Te16M-eKj"
      }
    },
    {
      "cell_type": "code",
      "source": [
        "# Handling ZeroDivisionError in Python\n",
        "\n",
        "numerator = 10\n",
        "denominator = 0\n",
        "\n",
        "try:\n",
        "    result = numerator / denominator\n",
        "    print(f\"Result: {result}\")\n",
        "except ZeroDivisionError:\n",
        "    print(\"Error: Cannot divide by zero.\")\n"
      ],
      "metadata": {
        "id": "J6bhV6U5_a7k"
      },
      "execution_count": null,
      "outputs": []
    },
    {
      "cell_type": "markdown",
      "source": [
        "6. Write a Python program that logs an error message to a log file when a division by zero exception occurs."
      ],
      "metadata": {
        "id": "uVmuNCW6_nPH"
      }
    },
    {
      "cell_type": "code",
      "source": [
        "import logging\n",
        "logging.basicConfig(filename=\"error.log\", level=logging.ERROR)\n",
        "\n",
        "try:\n",
        "    result = 10 / 0\n",
        "except ZeroDivisionError:\n",
        "    logging.error(\"Division by zero error occurred.\")\n"
      ],
      "metadata": {
        "id": "YA_PrDIPAmua"
      },
      "execution_count": null,
      "outputs": []
    },
    {
      "cell_type": "markdown",
      "source": [
        "7. How do you log information at different levels (INFO, ERROR, WARNING) in Python using the logging module."
      ],
      "metadata": {
        "id": "8_jJKXbPA149"
      }
    },
    {
      "cell_type": "code",
      "source": [
        "import logging\n",
        "logging.basicConfig(level=logging.DEBUG)\n",
        "\n",
        "logging.info(\"This is an info message.\")\n",
        "logging.warning(\"This is a warning message.\")\n",
        "logging.error(\"This is an error message.\")\n"
      ],
      "metadata": {
        "id": "YtIsYXEyA8RZ"
      },
      "execution_count": null,
      "outputs": []
    },
    {
      "cell_type": "markdown",
      "source": [
        "8. Write a program to handle a file opening error using exception handling."
      ],
      "metadata": {
        "id": "aywwQnAXBExA"
      }
    },
    {
      "cell_type": "code",
      "source": [
        "try:\n",
        "    with open(\"file.txt\", \"r\") as f:\n",
        "        print(f.read())\n",
        "except FileNotFoundError:\n",
        "    print(\"File could not be opened.\")\n"
      ],
      "metadata": {
        "id": "dvDBizHEBOU4"
      },
      "execution_count": null,
      "outputs": []
    },
    {
      "cell_type": "markdown",
      "source": [
        "9. How can you read a file line by line and store its content in a list in Python.\n"
      ],
      "metadata": {
        "id": "skj1U0t-BTwj"
      }
    },
    {
      "cell_type": "code",
      "source": [
        "with open(\"example.txt\", \"r\") as f:\n",
        "    lines = f.readlines()\n",
        "print(lines)\n"
      ],
      "metadata": {
        "id": "TlhS9x6jCivC"
      },
      "execution_count": null,
      "outputs": []
    },
    {
      "cell_type": "markdown",
      "source": [
        "10. How can you append data to an existing file in Python?"
      ],
      "metadata": {
        "id": "tP0Lt_LqClGC"
      }
    },
    {
      "cell_type": "code",
      "source": [
        "with open(\"example.txt\", \"a\") as f:\n",
        "    f.write(\"\\nNew line added.\")\n",
        "print(\"Data appended successfully.\")\n"
      ],
      "metadata": {
        "id": "UuX7VwoWCu-l"
      },
      "execution_count": null,
      "outputs": []
    },
    {
      "cell_type": "markdown",
      "source": [
        "11. Write a Python program that uses a try-except block to handle an error when attempting to access a dictionary key that doesn't exist."
      ],
      "metadata": {
        "id": "nzG9CcM4C5PH"
      }
    },
    {
      "cell_type": "code",
      "source": [
        "data = {\"name\": \"John\"}\n",
        "try:\n",
        "    print(data[\"age\"])\n",
        "except KeyError:\n",
        "    print(\"Key not found in dictionary.\")\n"
      ],
      "metadata": {
        "id": "sZYvCJtNDB7O"
      },
      "execution_count": null,
      "outputs": []
    },
    {
      "cell_type": "markdown",
      "source": [
        "12. Write a program that demonstrates using multiple except blocks to handle different types of exceptions."
      ],
      "metadata": {
        "id": "R36Q4jLfDEiy"
      }
    },
    {
      "cell_type": "code",
      "source": [
        "try:\n",
        "    num = int(\"abc\")\n",
        "    result = 10 / 0\n",
        "except ValueError:\n",
        "    print(\"Invalid number format.\")\n",
        "except ZeroDivisionError:\n",
        "    print(\"Cannot divide by zero.\")\n"
      ],
      "metadata": {
        "id": "u-igdRmRDLkt"
      },
      "execution_count": null,
      "outputs": []
    },
    {
      "cell_type": "markdown",
      "source": [
        "13. How would you check if a file exists before attempting to read it in Python?"
      ],
      "metadata": {
        "id": "qNsYOQspDNe8"
      }
    },
    {
      "cell_type": "code",
      "source": [
        "import os\n",
        "if os.path.exists(\"example.txt\"):\n",
        "    with open(\"example.txt\", \"r\") as f:\n",
        "        print(f.read())\n",
        "else:\n",
        "    print(\"File does not exist.\")\n"
      ],
      "metadata": {
        "id": "BdcWl_WwDT3a"
      },
      "execution_count": null,
      "outputs": []
    },
    {
      "cell_type": "markdown",
      "source": [
        "14. Write a program that uses the logging module to log both informational and error messages."
      ],
      "metadata": {
        "id": "khpKmi_HDWL2"
      }
    },
    {
      "cell_type": "code",
      "source": [
        "import logging\n",
        "logging.basicConfig(filename=\"app.log\", level=logging.DEBUG)\n",
        "\n",
        "logging.info(\"Application started.\")\n",
        "logging.error(\"An error occurred.\")\n"
      ],
      "metadata": {
        "id": "kkgI_cQdDgLJ"
      },
      "execution_count": null,
      "outputs": []
    },
    {
      "cell_type": "markdown",
      "source": [
        "15. Write a Python program that prints the content of a file and handles the case when the file is empty."
      ],
      "metadata": {
        "id": "7sV-SSqJDhJw"
      }
    },
    {
      "cell_type": "code",
      "source": [
        "with open(\"example.txt\", \"r\") as f:\n",
        "    content = f.read()\n",
        "    if content:\n",
        "        print(content)\n",
        "    else:\n",
        "        print(\"File is empty.\")\n"
      ],
      "metadata": {
        "id": "By9f1n7wDkru"
      },
      "execution_count": null,
      "outputs": []
    },
    {
      "cell_type": "markdown",
      "source": [
        "16. Demonstrate how to use memory profiling to check the memory usage of a small program."
      ],
      "metadata": {
        "id": "VWS1YUVbDrHk"
      }
    },
    {
      "cell_type": "code",
      "source": [
        "from memory_profiler import profile\n",
        "\n",
        "@profile\n",
        "def my_function():\n",
        "    a = [i for i in range(10000)]\n",
        "    return a\n",
        "\n",
        "my_function()\n"
      ],
      "metadata": {
        "id": "upQ8L6VvDuoD"
      },
      "execution_count": null,
      "outputs": []
    },
    {
      "cell_type": "markdown",
      "source": [
        "17. Write a Python program to create and write a list of numbers to a file, one number per line."
      ],
      "metadata": {
        "id": "ALrDWno7DypY"
      }
    },
    {
      "cell_type": "code",
      "source": [
        "numbers = [1, 2, 3, 4, 5]\n",
        "with open(\"numbers.txt\", \"w\") as f:\n",
        "    for num in numbers:\n",
        "        f.write(f\"{num}\\n\")\n"
      ],
      "metadata": {
        "id": "6G9sCFr-D2vx"
      },
      "execution_count": null,
      "outputs": []
    },
    {
      "cell_type": "markdown",
      "source": [
        "18. How would you implement a basic logging setup that logs to a file with rotation after 1MB?"
      ],
      "metadata": {
        "id": "9itcW4rXD5IP"
      }
    },
    {
      "cell_type": "code",
      "source": [
        "import logging\n",
        "from logging.handlers import RotatingFileHandler\n",
        "\n",
        "handler = RotatingFileHandler(\"app.log\", maxBytes=1_000_000, backupCount=3)\n",
        "logging.basicConfig(handlers=[handler], level=logging.DEBUG)\n",
        "\n",
        "logging.info(\"Log with rotation.\")\n"
      ],
      "metadata": {
        "id": "bzIWp3EoD8mY"
      },
      "execution_count": null,
      "outputs": []
    },
    {
      "cell_type": "markdown",
      "source": [
        "19. Write a program that handles both IndexError and KeyError using a try-except block."
      ],
      "metadata": {
        "id": "g6ys4ywXEBXD"
      }
    },
    {
      "cell_type": "code",
      "source": [
        "try:\n",
        "    my_list = [1, 2, 3]\n",
        "    print(my_list[5])\n",
        "    my_dict = {}\n",
        "    print(my_dict[\"key\"])\n",
        "except IndexError:\n",
        "    print(\"Index out of range.\")\n",
        "except KeyError:\n",
        "    print(\"Key not found.\")\n"
      ],
      "metadata": {
        "id": "bxTOL_rjEFfU"
      },
      "execution_count": null,
      "outputs": []
    },
    {
      "cell_type": "markdown",
      "source": [
        "20. How would you open a file and read its contents using a context manager in Python?"
      ],
      "metadata": {
        "id": "_FBhx70eELxt"
      }
    },
    {
      "cell_type": "code",
      "source": [
        "with open(\"example.txt\", \"r\") as f:\n",
        "    print(f.read())\n"
      ],
      "metadata": {
        "id": "yYW3sOVQEO6K"
      },
      "execution_count": null,
      "outputs": []
    },
    {
      "cell_type": "markdown",
      "source": [
        "21. Write a Python program that reads a file and prints the number of occurrences of a specific word."
      ],
      "metadata": {
        "id": "h37deHa_ERYL"
      }
    },
    {
      "cell_type": "code",
      "source": [
        "word = \"Python\"\n",
        "count = 0\n",
        "with open(\"example.txt\", \"r\") as f:\n",
        "    for line in f:\n",
        "        count += line.count(word)\n",
        "print(f\"'{word}' occurs {count} times.\")\n"
      ],
      "metadata": {
        "id": "ihcXid94EY8w"
      },
      "execution_count": null,
      "outputs": []
    },
    {
      "cell_type": "markdown",
      "source": [
        "22. How can you check if a file is empty before attempting to read its contents?"
      ],
      "metadata": {
        "id": "b1jugG_DEfag"
      }
    },
    {
      "cell_type": "code",
      "source": [
        "import os\n",
        "if os.path.getsize(\"example.txt\") == 0:\n",
        "    print(\"File is empty.\")\n",
        "else:\n",
        "    with open(\"example.txt\", \"r\") as f:\n",
        "        print(f.read())\n"
      ],
      "metadata": {
        "id": "mfiv0Hp8Ei5h"
      },
      "execution_count": null,
      "outputs": []
    },
    {
      "cell_type": "markdown",
      "source": [
        "23. Write a Python program that writes to a log file when an error occurs during file handling.\n"
      ],
      "metadata": {
        "id": "0MWCQQpMEltt"
      }
    },
    {
      "cell_type": "code",
      "source": [
        "import logging\n",
        "logging.basicConfig(filename=\"file_errors.log\", level=logging.ERROR)\n",
        "\n",
        "try:\n",
        "    with open(\"nofile.txt\", \"r\") as f:\n",
        "        print(f.read())\n",
        "except FileNotFoundError:\n",
        "    logging.error(\"File not found error occurred.\")\n"
      ],
      "metadata": {
        "id": "-23NY8DSEtii"
      },
      "execution_count": null,
      "outputs": []
    }
  ]
}